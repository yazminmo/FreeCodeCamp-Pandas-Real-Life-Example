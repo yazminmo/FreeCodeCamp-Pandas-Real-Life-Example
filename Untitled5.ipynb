{
  "nbformat": 4,
  "nbformat_minor": 0,
  "metadata": {
    "colab": {
      "provenance": [],
      "toc_visible": true,
      "authorship_tag": "ABX9TyO239G/ch98n3wqzomZwyj5",
      "include_colab_link": true
    },
    "kernelspec": {
      "name": "python3",
      "display_name": "Python 3"
    },
    "language_info": {
      "name": "python"
    }
  },
  "cells": [
    {
      "cell_type": "markdown",
      "metadata": {
        "id": "view-in-github",
        "colab_type": "text"
      },
      "source": [
        "<a href=\"https://colab.research.google.com/github/yazminmo/FreeCodeCamp-Pandas-Real-Life-Example/blob/master/Untitled5.ipynb\" target=\"_parent\"><img src=\"https://colab.research.google.com/assets/colab-badge.svg\" alt=\"Open In Colab\"/></a>"
      ]
    },
    {
      "cell_type": "markdown",
      "source": [
        "Start loading `matplotlib`, `numpy` and `pandas` the usual way"
      ],
      "metadata": {
        "id": "jQ4xATTDZiUT"
      }
    },
    {
      "cell_type": "code",
      "source": [
        "%matplotlib inline\n",
        "import matplotlib\n",
        "import numpy as np\n",
        "import pandas as pd"
      ],
      "metadata": {
        "id": "PpZAtVdjZkDI"
      },
      "execution_count": null,
      "outputs": []
    },
    {
      "cell_type": "markdown",
      "source": [
        "❓ Load the CSV data as a into a `titanic_df` variable.\n",
        "\n",
        "the csv file is available at this url: https://wagon-public-datasets.s3.amazonaws.com/Machine%20Learning%20Datasets/ML_Titanic_dataset.csv\n",
        "\n",
        "<details>\n",
        "    <summary>💡 <strong>Hint</strong> - Click to reveal</summary>\n",
        "    Try using <a href=\"https://pandas.pydata.org/pandas-docs/stable/reference/api/pandas.read_csv.html\"><code>pandas.DataFrame.read_csv</code></a>\n",
        "</details>"
      ],
      "metadata": {
        "id": "V2mJ9Mc1ZsBc"
      }
    },
    {
      "cell_type": "markdown",
      "source": [
        " Explore the dataset with the usual methods (`shape`, `dtypes`, `describe()`, `info()`, `isnull().sum()`).\n"
      ],
      "metadata": {
        "id": "xP99h81XZu4y"
      }
    },
    {
      "cell_type": "code",
      "source": [
        "titanic_df.head()"
      ],
      "metadata": {
        "id": "cfWYgmArZ0Cv"
      },
      "execution_count": null,
      "outputs": []
    },
    {
      "cell_type": "code",
      "source": [
        "titanic_df.isnull().sum()"
      ],
      "metadata": {
        "id": "W_4bIcsEZ2yh"
      },
      "execution_count": null,
      "outputs": []
    },
    {
      "cell_type": "markdown",
      "source": [
        "It seems that the `Cabin` information is missing in 687 rows. Pretty normal considering people in 3rd class (`Pclass`) did not have one!"
      ],
      "metadata": {
        "id": "Z1jR66A1Z44W"
      }
    },
    {
      "cell_type": "code",
      "source": [
        "titanic_df.drop('Cabin', axis=1, inplace=True)"
      ],
      "metadata": {
        "id": "aYnuJc5mZ7sM"
      },
      "execution_count": null,
      "outputs": []
    },
    {
      "cell_type": "markdown",
      "source": [
        "Using a `groupby()`, create a `pclass_df` dataframe counting the number of tickets sold per class (1, 2 or 3)"
      ],
      "metadata": {
        "id": "tGL9V5KvZ-Ds"
      }
    },
    {
      "cell_type": "code",
      "source": [
        "pclass_df = titanic_df.groupby(\"Pclass\").count()[\"PassengerId\"].to_frame(name=\"count\")\n",
        "pclass_df"
      ],
      "metadata": {
        "id": "bdtL-o_8aCSJ"
      },
      "execution_count": null,
      "outputs": []
    },
    {
      "cell_type": "markdown",
      "source": [
        "Looking at the number is not very visual, let's try to make sense of the data with a plot."
      ],
      "metadata": {
        "id": "ZkrMmS_-aJ_S"
      }
    },
    {
      "cell_type": "code",
      "source": [
        "pclass_df.plot(kind=\"bar\")"
      ],
      "metadata": {
        "id": "7sB6QcriaTqm"
      },
      "execution_count": null,
      "outputs": []
    },
    {
      "cell_type": "markdown",
      "source": [
        "Let's now have a look at **survivors**.\n",
        "\n",
        "❓ Plot a barchart of *frequency of survivals* per class. `0` means no one survived in the class, `1` means everyone survived."
      ],
      "metadata": {
        "id": "ppQqrOt7aUhl"
      }
    },
    {
      "cell_type": "code",
      "source": [
        "titanic_df[[\"Pclass\",\"Survived\"]].groupby('Pclass').mean().plot(kind='bar')"
      ],
      "metadata": {
        "id": "VXTV-OBpanRa"
      },
      "execution_count": null,
      "outputs": []
    },
    {
      "cell_type": "markdown",
      "source": [
        "\n",
        "Let's have a look at the `Sex` column.\n",
        "\n",
        "❓ Use the [`pandas.Series.unique`](https://pandas.pydata.org/pandas-docs/stable/reference/api/pandas.Series.unique.html) function to check the different values used in that column"
      ],
      "metadata": {
        "id": "xkkQl8xqaopD"
      }
    },
    {
      "cell_type": "code",
      "source": [
        "titanic_df['Sex'].unique()"
      ],
      "metadata": {
        "id": "tA30wqNKas-r"
      },
      "execution_count": null,
      "outputs": []
    },
    {
      "cell_type": "markdown",
      "source": [
        "❓ Plot a barchart of survival frequency of each gender. Who survived the most?"
      ],
      "metadata": {
        "id": "M-3MJ4avavRq"
      }
    },
    {
      "cell_type": "code",
      "source": [
        "titanic_df[['Survived', 'Sex']].groupby('Sex').mean().plot(kind='bar')"
      ],
      "metadata": {
        "id": "FC5LRI81axyo"
      },
      "execution_count": null,
      "outputs": []
    },
    {
      "cell_type": "markdown",
      "source": [
        "Let's build a fancier histogram where we show the total number of passengers + the total number of survivors (for each gender).\n",
        "\n",
        "❓ Build a `survivors_df` DataFrame with two columns: `Total` and `Survived`, and two rows (`male` and `female`). Plot it."
      ],
      "metadata": {
        "id": "Y83c9n2xa09W"
      }
    },
    {
      "cell_type": "code",
      "source": [
        "survivors_df = titanic_df[['Survived', 'Sex']].groupby('Sex').sum()\n",
        "survivors_df['Total'] = titanic_df[['Survived', 'Sex']].groupby('Sex').count()\n",
        "survivors_df.plot(kind='bar')"
      ],
      "metadata": {
        "id": "wJy5i1gVa4H6"
      },
      "execution_count": null,
      "outputs": []
    },
    {
      "cell_type": "markdown",
      "source": [
        "\n",
        "The former analysis did not take into account ages. We want to differentiate between a child and an adult and see how survival rates are affected.\n",
        "\n",
        "❓ Use boolean indexing to create a `children_df` containing only rows of child passengers"
      ],
      "metadata": {
        "id": "PWIQa8i1a7dq"
      }
    },
    {
      "cell_type": "code",
      "source": [
        "children_df = titanic_df[titanic_df['Age'] <= 17]\n",
        "children_df.head()"
      ],
      "metadata": {
        "id": "Mn8sYUrca-ri"
      },
      "execution_count": null,
      "outputs": []
    },
    {
      "cell_type": "markdown",
      "source": [
        "How many children survived?"
      ],
      "metadata": {
        "id": "1g86ja55bDeo"
      }
    },
    {
      "cell_type": "code",
      "source": [
        "children_df['Survived'].sum()"
      ],
      "metadata": {
        "id": "u5c4Vzk9bEbq"
      },
      "execution_count": null,
      "outputs": []
    },
    {
      "cell_type": "markdown",
      "source": [
        " Plot a barchart of survivors / total for each category: `male`, `female`, `children`. Bear in mind that you need to **substract** the boys from the `male` statistics, and the girls from the `female` statistics."
      ],
      "metadata": {
        "id": "5_cgMVTMbI0Y"
      }
    },
    {
      "cell_type": "code",
      "source": [
        "survivors_df.loc['children'] = [children_df['Survived'].sum(), children_df.shape[0]]\n",
        "survivors_df"
      ],
      "metadata": {
        "id": "im_YjpiScHHb"
      },
      "execution_count": null,
      "outputs": []
    },
    {
      "cell_type": "code",
      "source": [
        "children_gender_df = children_df[['Survived', 'Sex']].groupby('Sex').sum()\n",
        "children_gender_df['Total'] = children_df[['Survived', 'Sex']].groupby('Sex').count()\n",
        "children_gender_df.loc['children'] = [ 0, 0 ]\n",
        "children_gender_df"
      ],
      "metadata": {
        "id": "lzY0NKfEcJW3"
      },
      "execution_count": null,
      "outputs": []
    },
    {
      "cell_type": "code",
      "source": [
        "(survivors_df - children_gender_df).plot(kind='bar')"
      ],
      "metadata": {
        "id": "MBgRaX6fcLRI"
      },
      "execution_count": null,
      "outputs": []
    },
    {
      "cell_type": "markdown",
      "source": [
        "❓ Find out if it was harder for bigger families to survive?"
      ],
      "metadata": {
        "id": "EY_enK6TcOjt"
      }
    },
    {
      "cell_type": "code",
      "source": [
        "titanic_df['family_size'] = titanic_df['SibSp'] + titanic_df['Parch']\n",
        "titanic_df.groupby('family_size').mean()['Survived'].plot(kind='bar');"
      ],
      "metadata": {
        "id": "PJ0V79JdcQ3_"
      },
      "execution_count": null,
      "outputs": []
    },
    {
      "cell_type": "markdown",
      "source": [
        "❓ Were passengers with distinguished titles preferred during the evacuation?\n",
        "   \n",
        "With some string manipulation, create a new column for each user with their title"
      ],
      "metadata": {
        "id": "8v5t3qK7cUOZ"
      }
    },
    {
      "cell_type": "code",
      "source": [
        "titanic_df['Title'] = titanic_df['Name'].apply(lambda x: x.split(',')[1].split('.')[0].strip())\n",
        "titanic_df.groupby('Title').count()['PassengerId'].sort_values().plot(kind='bar', logy=True)"
      ],
      "metadata": {
        "id": "0zBHFn32cYQa"
      },
      "execution_count": null,
      "outputs": []
    },
    {
      "cell_type": "code",
      "source": [
        "titanic_df.groupby('Title').mean()['Survived'].sort_values().plot(kind='bar')"
      ],
      "metadata": {
        "id": "sjQ43YbQcs1t"
      },
      "execution_count": null,
      "outputs": []
    }
  ]
}